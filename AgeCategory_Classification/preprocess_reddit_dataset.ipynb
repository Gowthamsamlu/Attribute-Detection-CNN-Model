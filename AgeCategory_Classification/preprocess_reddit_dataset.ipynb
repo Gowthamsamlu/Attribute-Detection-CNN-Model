{
 "cells": [
  {
   "cell_type": "code",
   "execution_count": 20,
   "metadata": {},
   "outputs": [],
   "source": [
    "import pandas as py\n",
    "\n",
    "read_ages = open(r\"C:\\Users\\Admin\\24[7]_Project\\processed_text\\authorid_w_age.txt\",\"r\",encoding=\"utf-8\")\n",
    "\n",
    "content = read_ages.readlines()\n",
    "\n",
    "author_ids = []\n",
    "author_ages = []\n",
    "\n",
    "for line in content:\n",
    "    line_temp = line.split()\n",
    "    author_ids.append(line_temp[0].strip().replace(\" \",\"\"))\n",
    "    author_ages.append(int(line_temp[2].strip().replace(\" \",\"\")))\n",
    "    \n",
    "def get_age_of_author(author_id):\n",
    "    return author_ages[author_ids.index(author_id)]"
   ]
  },
  {
   "cell_type": "code",
   "execution_count": 25,
   "metadata": {},
   "outputs": [],
   "source": [
    "import json\n",
    "filehandler = open(r\"C:\\Users\\Admin\\Downloads\\RS_2011-01\",\"r\",encoding=\"utf-8\")\n",
    "lines = filehandler.readlines()\n",
    "\n",
    "pre_dialogues = []\n",
    "age_labels = []\n",
    "error_indexes = []\n",
    "\n",
    "for line in lines:\n",
    "    try:\n",
    "        json_data = line[:-2]+'}'\n",
    "        jsonObj = json.loads(json_data)\n",
    "        if(jsonObj[\"selftext\"] and jsonObj[\"author\"] and jsonObj[\"author\"] != \"[deleted]\" and jsonObj[\"author\"] in author_ids):\n",
    "            pre_dialogues.append(jsonObj[\"selftext\"].lower().strip())\n",
    "            age_labels.append(get_age_of_author(jsonObj[\"author\"]))\n",
    "    except:\n",
    "        error_indexes.append(line)"
   ]
  },
  {
   "cell_type": "code",
   "execution_count": 28,
   "metadata": {},
   "outputs": [
    {
     "name": "stdout",
     "output_type": "stream",
     "text": [
      "2288  -  2288\n"
     ]
    }
   ],
   "source": [
    "print(len(pre_dialogues),\" - \",len(age_labels))"
   ]
  },
  {
   "cell_type": "code",
   "execution_count": 27,
   "metadata": {},
   "outputs": [],
   "source": [
    "import json\n",
    "filehandler = open(r\"C:\\Users\\Admin\\Downloads\\RS_2014-12\",\"r\",encoding=\"utf-8\")\n",
    "lines = filehandler.readlines()\n",
    "\n",
    "\n",
    "for line in lines:\n",
    "    try:\n",
    "        json_data = line[:-2]+'}'\n",
    "        jsonObj = json.loads(json_data)\n",
    "        if(jsonObj[\"selftext\"] and jsonObj[\"author\"] and jsonObj[\"author\"] != \"[deleted]\" and jsonObj[\"author\"] in author_ids):\n",
    "            pre_dialogues.append(jsonObj[\"selftext\"].lower().strip())\n",
    "            age_labels.append(get_age_of_author(jsonObj[\"author\"]))\n",
    "    except:\n",
    "        error_indexes.append(line)"
   ]
  },
  {
   "cell_type": "code",
   "execution_count": 34,
   "metadata": {},
   "outputs": [],
   "source": [
    "outfile = open(r\"C:\\Users\\Admin\\24[7]_Project\\processed_text\\age_category_ds.txt\",\"w\",encoding = \"utf-8\")\n",
    "\n",
    "ind = 0 \n",
    "for item in pre_dialogues:\n",
    "    if(item.find(\"**most popular posts**\")<0):\n",
    "        out_str = item.replace(\"\\n\",\"\").replace(\"\\r\",\"\")+\"++$++\"+str(age_labels[ind])+\"\\n\"\n",
    "        outfile.write(out_str)\n",
    "    ind+=1\n",
    "outfile.close()"
   ]
  },
  {
   "cell_type": "code",
   "execution_count": null,
   "metadata": {},
   "outputs": [],
   "source": []
  }
 ],
 "metadata": {
  "kernelspec": {
   "display_name": "Python 3",
   "language": "python",
   "name": "python3"
  },
  "language_info": {
   "codemirror_mode": {
    "name": "ipython",
    "version": 3
   },
   "file_extension": ".py",
   "mimetype": "text/x-python",
   "name": "python",
   "nbconvert_exporter": "python",
   "pygments_lexer": "ipython3",
   "version": "3.7.6"
  }
 },
 "nbformat": 4,
 "nbformat_minor": 4
}
