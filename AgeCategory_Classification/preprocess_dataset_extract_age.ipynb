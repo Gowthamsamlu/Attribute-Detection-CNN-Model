{
 "cells": [
  {
   "cell_type": "code",
   "execution_count": null,
   "metadata": {},
   "outputs": [],
   "source": [
    "import json\n",
    "import re\n",
    "\n",
    "filehandler = open(r\"C:\\Users\\Admin\\Downloads\\RS_2011-01\",\"r\",encoding=\"utf-8\")\n",
    "lines = filehandler.readlines()\n",
    "\n",
    "ind = 0\n",
    "\n",
    "author_ids = []\n",
    "age_labels = []\n",
    "error_indexes = []\n",
    "\n",
    "cnt = 0\n",
    "for line in lines:\n",
    "    try:\n",
    "        json_data = line[:-2]+'}'\n",
    "        jsonObj = json.loads(json_data)\n",
    "        if(jsonObj[\"selftext\"] and jsonObj[\"author\"] and jsonObj[\"author\"] != \"[deleted]\"):\n",
    "            rematch = re.search(\"i am born in [1-2][0-9][0-9][0-9]\",jsonObj[\"selftext\"].lower())\n",
    "            if(bool(rematch)):\n",
    "                m = re.search(r\"i am born in (.+?)\", jsonObj[\"selftext\"].lower())\n",
    "                if m:\n",
    "                    found = m.group(1)\n",
    "                    author_ids.append(jsonObj[\"author\"])\n",
    "                    age_labels.append(found)\n",
    "                    #print(ind,\" - \",jsonObj[\"author\"],\" - \",found)\n",
    "                cnt += 1\n",
    "            else:\n",
    "                rematch = re.search(\"i was born in [1-2][0-9][0-9][0-9]\",jsonObj[\"selftext\"].lower())\n",
    "                #rematch = re.search(\"i'm (.+?) years old\",jsonObj[\"selftext\"].lower())\n",
    "                if(bool(rematch)):\n",
    "                    m = re.search(\"i was born in (.+?)\",jsonObj[\"selftext\"].lower())\n",
    "                    if m:\n",
    "                        found = m.group(1)\n",
    "                        author_ids.append(jsonObj[\"author\"])\n",
    "                        age_labels.append(found)\n",
    "                        #print(ind,\" - \",jsonObj[\"author\"],\" - \",found)\n",
    "                cnt+=1\n",
    "    except:\n",
    "        error_indexes.append(ind)\n",
    "    ind+=1\n"
   ]
  },
  {
   "cell_type": "code",
   "execution_count": 2,
   "metadata": {},
   "outputs": [],
   "source": [
    "filehandler = open(r\"C:\\Users\\Admin\\Downloads\\RS_2014-12\",\"r\",encoding=\"utf-8\")\n",
    "lines = filehandler.readlines()\n",
    "\n",
    "ind = 0\n",
    "\n",
    "author_ids2 = []\n",
    "age_labels2 = []\n",
    "#error_indexes = []\n",
    "\n",
    "cnt = 0\n",
    "for line in lines:\n",
    "    try:\n",
    "        json_data = line[:-2]+'}'\n",
    "        jsonObj = json.loads(json_data)\n",
    "        if(jsonObj[\"selftext\"] and jsonObj[\"author\"] and jsonObj[\"author\"] != \"[deleted]\"):\n",
    "            rematch = re.search(\"i am [0-9]*[0-9] years old\",jsonObj[\"selftext\"].lower())\n",
    "            if(bool(rematch)):\n",
    "                m = re.search(r\"i am (.+?) years old\", jsonObj[\"selftext\"].lower())\n",
    "                if m:\n",
    "                    found = m.group(1)\n",
    "                    author_ids2.append(jsonObj[\"author\"])\n",
    "                    age_labels2.append(found)\n",
    "                    #print(ind,\" - \",jsonObj[\"author\"],\" - \",found)\n",
    "                cnt += 1\n",
    "            else:\n",
    "                rematch = re.search(\"i'm [0-9]*[0-9] years old\",jsonObj[\"selftext\"].lower())\n",
    "                #rematch = re.search(\"i'm (.+?) years old\",jsonObj[\"selftext\"].lower())\n",
    "                if(bool(rematch)):\n",
    "                    m = re.search(\"i'm (.+?) years old\",jsonObj[\"selftext\"].lower())\n",
    "                    if m:\n",
    "                        found = m.group(1)\n",
    "                        author_ids2.append(jsonObj[\"author\"])\n",
    "                        age_labels2.append(found)\n",
    "                        #print(ind,\" - \",jsonObj[\"author\"],\" - \",found)\n",
    "                cnt+=1\n",
    "    except:\n",
    "        error_indexes.append(ind)\n",
    "    ind+=1\n"
   ]
  },
  {
   "cell_type": "code",
   "execution_count": 3,
   "metadata": {},
   "outputs": [],
   "source": [
    "ind = 0\n",
    "for items in age_labels:\n",
    "    if(not items.isnumeric()):\n",
    "        age_labels[ind] = items[-2:]\n",
    "    ind+=1\n",
    "\n",
    "ind = 0\n",
    "for items in age_labels2:\n",
    "    if(not items.isnumeric()):\n",
    "        age_labels2[ind] = items[-2:]\n",
    "    ind+=1\n"
   ]
  },
  {
   "cell_type": "code",
   "execution_count": 5,
   "metadata": {},
   "outputs": [
    {
     "name": "stdout",
     "output_type": "stream",
     "text": [
      "2162\n"
     ]
    }
   ],
   "source": [
    "print(len(age_labels2))"
   ]
  },
  {
   "cell_type": "code",
   "execution_count": 8,
   "metadata": {},
   "outputs": [],
   "source": [
    "output1 = open(r\"C:\\Users\\Admin\\Downloads\\age_category_1.txt\",\"w\", encoding=\"utf-8\")\n",
    "\n",
    "ind = 0\n",
    "for items in age_labels:\n",
    "    str_out = author_ids[ind]+\" ++$++ \"+items+\"\\n\"\n",
    "    output1.write(str_out)\n",
    "    ind+=1\n",
    "    \n",
    "output1 = open(r\"C:\\Users\\Admin\\Downloads\\age_category_2.txt\",\"w\", encoding=\"utf-8\")\n",
    "\n",
    "ind = 0\n",
    "for items in age_labels2:\n",
    "    str_out = author_ids2[ind]+\" ++$++ \"+items+\"\\n\"\n",
    "    output1.write(str_out)\n",
    "    ind+=1"
   ]
  },
  {
   "cell_type": "code",
   "execution_count": null,
   "metadata": {},
   "outputs": [],
   "source": []
  }
 ],
 "metadata": {
  "kernelspec": {
   "display_name": "Python 3",
   "language": "python",
   "name": "python3"
  },
  "language_info": {
   "codemirror_mode": {
    "name": "ipython",
    "version": 3
   },
   "file_extension": ".py",
   "mimetype": "text/x-python",
   "name": "python",
   "nbconvert_exporter": "python",
   "pygments_lexer": "ipython3",
   "version": "3.7.6"
  }
 },
 "nbformat": 4,
 "nbformat_minor": 4
}
