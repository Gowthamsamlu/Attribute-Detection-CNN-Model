{
 "cells": [
  {
   "cell_type": "code",
   "execution_count": 4,
   "metadata": {},
   "outputs": [
    {
     "name": "stdout",
     "output_type": "stream",
     "text": [
      "Similarity of post and book 0.1089206\n",
      "[[0, 0.6279074368601878, 0.17054861549283173, 0.5185075297619075, 0.6262692978874341, 0.31632437601448693, -0.0008761426180993113, 0.5109375550768053], [0, 0, 0.05135336756066068, 0.5143601340709414, 0.47487225159479496, 0.33841627747250164, 0.04223400643475384, 0.4862241117204917], [0, 0, 0, 0.018095629128250846, -0.041051150601770184, 0.10154827473542738, 0.027747826083066435, 0.06941189525951318], [0, 0, 0, 0, 0.525136067602497, 0.400537345479744, -0.031863218658905186, 0.7690393099791109], [0, 0, 0, 0, 0, 0.13120807088146214, -0.08249927683467985, 0.5348835505444104], [0, 0, 0, 0, 0, 0, 0.25239907200511663, 0.30643234023097005], [0, 0, 0, 0, 0, 0, 0, -0.08133144266454685], [0, 0, 0, 0, 0, 0, 0, 0]]\n"
     ]
    },
    {
     "name": "stderr",
     "output_type": "stream",
     "text": [
      "C:\\Users\\Admin\\anaconda3\\envs\\tensorflow_env\\lib\\site-packages\\ipykernel_launcher.py:15: DeprecationWarning: Call to deprecated `similarity` (Method will be removed in 4.0.0, use self.wv.similarity() instead).\n",
      "  from ipykernel import kernelapp as app\n",
      "C:\\Users\\Admin\\anaconda3\\envs\\tensorflow_env\\lib\\site-packages\\ipykernel_launcher.py:25: DeprecationWarning: Call to deprecated `__getitem__` (Method will be removed in 4.0.0, use self.wv.__getitem__() instead).\n"
     ]
    }
   ],
   "source": [
    "from gensim.models import Word2Vec\n",
    "sentences = [['this', 'is', 'the', 'good', 'machine', 'learning', 'book'],\n",
    "            ['this', 'is',  'another', 'book'],\n",
    "            ['one', 'more', 'book'],\n",
    "            ['this', 'is', 'the', 'new', 'post'],\n",
    "          ['this', 'is', 'about', 'machine', 'learning', 'post'], \n",
    "          ['orange', 'juice', 'is', 'the', 'liquid', 'extract', 'of', 'the', 'fruit'],\n",
    "          ['orange', 'juice', 'comes', 'in', 'several', 'different', 'varieties'],\n",
    "            ['and', 'this', 'is', 'the', 'last', 'post']]\n",
    " \n",
    "model = Word2Vec(sentences, min_count=1, size=100)\n",
    "vocab = model.wv.vocab\n",
    "wordsInVocab = len(vocab)\n",
    "\n",
    "print (\"Similarity of post and book\",model.similarity('post', 'book'))\n",
    "\n",
    "\n",
    "import numpy as np\n",
    " \n",
    "def sent_vectorizer(sent, model):\n",
    "    sent_vec = np.zeros(100)\n",
    "    numw = 0\n",
    "    for w in sent:\n",
    "        try:\n",
    "            sent_vec = np.add(sent_vec, model[w])\n",
    "            numw+=1\n",
    "        except:\n",
    "            pass\n",
    "    return sent_vec / np.sqrt(sent_vec.dot(sent_vec))\n",
    " \n",
    "V=[]\n",
    "\n",
    "for sentence in sentences:\n",
    "    V.append(sent_vectorizer(sentence, model))\n",
    "\n",
    "\n",
    "from numpy import dot\n",
    "from numpy.linalg import norm\n",
    "\n",
    "results = [[0 for i in range(len(V))] for j in range(len(V))] \n",
    " \n",
    "for i in range (len(V) - 1):\n",
    "    for j in range(i+1, len(V)):\n",
    "           results[i][j] = dot(V[i],V[j])/norm(V[i])/norm(V[j])\n",
    " \n",
    " \n",
    "print (results)"
   ]
  },
  {
   "cell_type": "code",
   "execution_count": 3,
   "metadata": {},
   "outputs": [
    {
     "name": "stdout",
     "output_type": "stream",
     "text": [
      "[9, 10, 11, 12, 13, 14, 15]\n",
      "[1, 2, 3, 4, 5, 6, 7]\n"
     ]
    }
   ],
   "source": [
    "list = [1,2,3,4,5,6,7,8,9,10,11,12,13,14,15]\n",
    "\n",
    "print(list[-7:])\n",
    "print(list[0:-8])"
   ]
  },
  {
   "cell_type": "code",
   "execution_count": null,
   "metadata": {},
   "outputs": [],
   "source": []
  }
 ],
 "metadata": {
  "kernelspec": {
   "display_name": "Python 3",
   "language": "python",
   "name": "python3"
  },
  "language_info": {
   "codemirror_mode": {
    "name": "ipython",
    "version": 3
   },
   "file_extension": ".py",
   "mimetype": "text/x-python",
   "name": "python",
   "nbconvert_exporter": "python",
   "pygments_lexer": "ipython3",
   "version": "3.7.6"
  }
 },
 "nbformat": 4,
 "nbformat_minor": 4
}
