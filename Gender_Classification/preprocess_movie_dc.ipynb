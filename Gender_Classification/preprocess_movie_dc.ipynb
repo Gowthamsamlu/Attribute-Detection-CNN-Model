{
 "cells": [
  {
   "cell_type": "code",
   "execution_count": 2,
   "metadata": {},
   "outputs": [
    {
     "name": "stdout",
     "output_type": "stream",
     "text": [
      "Movie lines preprocessing initiated...\n",
      "Movie lines preprocessing completed.\n",
      "Movie characters preprocessing initiated...\n",
      "Movie characters preprocessing completed.\n"
     ]
    }
   ],
   "source": [
    "import os\n",
    "import io\n",
    "import pandas as pd\n",
    "\n",
    "def movie_lines_preprocess():\n",
    "    filer = io.open(\"C:/Users/Admin/24[7]_Project/cornell_mdc/movie_lines.txt\",\"r\",encoding=\"ISO-8859-1\")\n",
    "    filew = io.open(\"C:/Users/Admin/24[7]_Project/processed_text/movie_lines_prcsd.csv\",\"w\",encoding=\"utf-8\")\n",
    "    eachline=\"\"\n",
    "\n",
    "    fetch_limit = 5;\n",
    "    notinlist = [1];\n",
    "\n",
    "    for eachline in filer:\n",
    "        line = eachline\n",
    "        list1 = line.split(' +++$+++ ')\n",
    "        cnt = 1\n",
    "        for comp in list1:\n",
    "            if(cnt<=fetch_limit and cnt not in notinlist):\n",
    "                filew.write(comp.replace(',','_'))\n",
    "            if(cnt!=fetch_limit):\n",
    "                filew.write(',')\n",
    "            else:\n",
    "                pass\n",
    "            cnt+=1\n",
    "\n",
    "def movie_characters_preprocess():\n",
    "    filer = io.open(\"C:/Users/Admin/24[7]_Project/cornell_mdc/movie_characters_metadata.txt\",\"r\",encoding=\"ISO-8859-1\")\n",
    "    filew = io.open(\"C:/Users/Admin/24[7]_Project/processed_text/movie_characters_prcsd.csv\",\"w\",encoding=\"utf-8\")\n",
    "  \n",
    "    eachline=\"\"\n",
    "\n",
    "    fetch_limit = 5;\n",
    "    notinlist = [4];\n",
    "\n",
    "    for eachline in filer:\n",
    "        line = eachline\n",
    "        list1 = line.split(' +++$+++ ')\n",
    "        cnt = 1\n",
    "        for comp in list1:\n",
    "            if(cnt<=fetch_limit and cnt not in notinlist):\n",
    "                comp = comp.replace('\"','')\n",
    "                filew.write(comp.replace(',','_'))\n",
    "                filew.write(\",\")\n",
    "            if(cnt==fetch_limit):\n",
    "                filew.write(\"\\n\")  \n",
    "            cnt+=1\n",
    "        \n",
    "    filew.close()\n",
    "\n",
    "    #os.remove(\"C:/Users/Admin/24[7]_Project/processed_text/movie_characters_prcsd.csv\")\n",
    "    #os.rename(\"C:/Users/Admin/24[7]_Project/processed_text/movie_characters_prcsd2.csv\",\"C:/Users/Admin/24[7]_Project/processed_text/movie_characters_prcsd.csv\")\n",
    "\n",
    "    \n",
    "print(\"Movie lines preprocessing initiated...\")\n",
    "movie_lines_preprocess()\n",
    "print(\"Movie lines preprocessing completed.\")\n",
    "\n",
    "print(\"Movie characters preprocessing initiated...\")\n",
    "movie_characters_preprocess()\n",
    "print(\"Movie characters preprocessing completed.\")"
   ]
  },
  {
   "cell_type": "code",
   "execution_count": 3,
   "metadata": {},
   "outputs": [
    {
     "name": "stdout",
     "output_type": "stream",
     "text": [
      "Joining characters and their lines together initiated...\n",
      "Joining characters and their lines together completed.\n"
     ]
    }
   ],
   "source": [
    "def join_char_gender():\n",
    "    characters_ds = pd.read_csv(\"C:/Users/Admin/24[7]_Project/processed_text/movie_characters_prcsd.csv\",names=[\"charid\",\"charname\",\"movieid\",\"gender\"],header=0,index_col=False)\n",
    "    mv_lines_ds = pd.read_csv(\"C:/Users/Admin/24[7]_Project/processed_text/movie_lines_prcsd.csv\",names=['charid','movieid','charname','lines'],header=0)\n",
    "    joined = mv_lines_ds.merge(characters_ds,on=['charid','movieid'],how=\"left\")\n",
    "    joined.drop([\"charname_y\"],axis=1,inplace=True)\n",
    "    joined.to_csv(\"C:/Users/Admin/24[7]_Project/processed_text/combined_lines_chars.csv\",index=False)\n",
    "\n",
    "print(\"Joining characters and their lines together initiated...\")\n",
    "join_char_gender()\n",
    "print(\"Joining characters and their lines together completed.\")\n",
    "\n",
    "def isNaN(string):\n",
    "    return string != string"
   ]
  },
  {
   "cell_type": "code",
   "execution_count": null,
   "metadata": {},
   "outputs": [],
   "source": []
  }
 ],
 "metadata": {
  "kernelspec": {
   "display_name": "Python 3",
   "language": "python",
   "name": "python3"
  },
  "language_info": {
   "codemirror_mode": {
    "name": "ipython",
    "version": 3
   },
   "file_extension": ".py",
   "mimetype": "text/x-python",
   "name": "python",
   "nbconvert_exporter": "python",
   "pygments_lexer": "ipython3",
   "version": "3.7.6"
  }
 },
 "nbformat": 4,
 "nbformat_minor": 4
}
