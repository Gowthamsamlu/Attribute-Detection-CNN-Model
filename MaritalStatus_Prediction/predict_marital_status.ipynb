{
 "cells": [
  {
   "cell_type": "markdown",
   "metadata": {},
   "source": [
    "**Marital Status prediction**\n",
    "\n",
    "Go ahead to predict the marital status of user provided the conversational dialog of the same."
   ]
  },
  {
   "cell_type": "code",
   "execution_count": 1,
   "metadata": {},
   "outputs": [
    {
     "name": "stdout",
     "output_type": "stream",
     "text": [
      "Importing required libraries...\n",
      "Importing libraries completed.\n",
      "Enter the dialogue to predict the marital status: adda\n",
      "adda  -  Single\n"
     ]
    }
   ],
   "source": [
    "print(\"Importing required libraries...\")\n",
    "import numpy as np\n",
    "import tensorflow\n",
    "from tensorflow.keras.preprocessing.text import one_hot\n",
    "from tensorflow.keras.preprocessing.sequence import pad_sequences\n",
    "\n",
    "print(\"Importing libraries completed.\")\n",
    "\n",
    "model = tensorflow.keras.models.load_model('marital_status_cnn_model.model')\n",
    "print(\"Enter the dialogue to predict the marital status: \", end=\"\")\n",
    "string = input()\n",
    "docs = []\n",
    "docs.append(string)\n",
    "vocab_size = 2000\n",
    "categories = [\"Single\",\"Married\"]\n",
    "encoded_docs = [one_hot(d, vocab_size) for d in docs]\n",
    "# pad documents to a max length of 4 words\n",
    "max_length = 50\n",
    "padded_docs = pad_sequences(encoded_docs, maxlen=max_length, padding='post')\n",
    "result = model.predict(padded_docs)\n",
    "ind = 0\n",
    "for row in result:\n",
    "    if(row[0]<0.5):\n",
    "        out = 0\n",
    "    else:\n",
    "        out = 1\n",
    "    ind+=1\n",
    "print(docs[0],\" - \",categories[out])"
   ]
  },
  {
   "cell_type": "code",
   "execution_count": null,
   "metadata": {},
   "outputs": [],
   "source": []
  }
 ],
 "metadata": {
  "hide_input": true,
  "kernelspec": {
   "display_name": "Python 3",
   "language": "python",
   "name": "python3"
  },
  "language_info": {
   "codemirror_mode": {
    "name": "ipython",
    "version": 3
   },
   "file_extension": ".py",
   "mimetype": "text/x-python",
   "name": "python",
   "nbconvert_exporter": "python",
   "pygments_lexer": "ipython3",
   "version": "3.7.6"
  }
 },
 "nbformat": 4,
 "nbformat_minor": 4
}
