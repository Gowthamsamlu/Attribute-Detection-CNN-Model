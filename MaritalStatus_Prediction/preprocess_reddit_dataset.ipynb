{
 "cells": [
  {
   "cell_type": "code",
   "execution_count": 1,
   "metadata": {},
   "outputs": [],
   "source": [
    "import json\n",
    "\n",
    "filehandler = open(r\"C:\\Users\\Admin\\Downloads\\RS_2011-01\",\"r\",encoding=\"utf-8\")\n",
    "lines = filehandler.readlines()\n"
   ]
  },
  {
   "cell_type": "code",
   "execution_count": 2,
   "metadata": {},
   "outputs": [],
   "source": [
    "married_ids = []\n",
    "single_ids = []\n",
    "\n",
    "cnt = 0\n",
    "\n",
    "for line in lines:\n",
    "    json_data = line[:-2]+'}'\n",
    "    try:\n",
    "        jsonObj = json.loads(json_data)\n",
    "        author_id = jsonObj[\"author\"]\n",
    "        selftext = jsonObj[\"selftext\"]\n",
    "        #print(selftext.lower())\n",
    "        if author_id not in married_ids:\n",
    "            if selftext.lower().find(\"i'm married\") >= 0:\n",
    "                married_ids.append(author_id)\n",
    "            elif selftext.lower().find(\"i'm divorced\") >= 0:\n",
    "                single_ids.append(author_id)\n",
    "            elif selftext.lower().find(\"i'm single\") >= 0:\n",
    "                single_ids.append(author_id)\n",
    "            elif selftext.lower().find(\"i have a boyfriend\") >= 0:\n",
    "                single_ids.append(author_id)\n",
    "            elif selftext.lower().find(\"i have a girlfriend\") >= 0:\n",
    "                single_ids.append(author_id)\n",
    "            elif selftext.lower().find(\"my boyfriend\") >= 0:\n",
    "                single_ids.append(author_id)\n",
    "            elif selftext.lower().find(\"my girlfriend\") >= 0:\n",
    "                single_ids.append(author_id)\n",
    "            elif selftext.lower().find(\"my husband\") >= 0:\n",
    "                married_ids.append(author_id)\n",
    "            elif selftext.lower().find(\"my wife\") >= 0:\n",
    "                married_ids.append(author_id)\n",
    "            elif selftext.lower().find(\"i have a husband\") >= 0:\n",
    "                married_ids.append(author_id)\n",
    "            elif selftext.lower().find(\"i have a wife\") >= 0:\n",
    "                married_ids.append(author_id)\n",
    "            elif selftext.lower().find(\"i have husband\") >= 0:\n",
    "                married_ids.append(author_id)\n",
    "            elif selftext.lower().find(\"i have wife\") >= 0:\n",
    "                married_ids.append(author_id)\n",
    "            elif selftext.lower().find(\"i am married\") >= 0:\n",
    "                married_ids.append(author_id)\n",
    "    except KeyError:\n",
    "        cnt+=1\n",
    "    except:\n",
    "        cnt2 = 1\n",
    "        #print(jsonObj)"
   ]
  },
  {
   "cell_type": "code",
   "execution_count": 3,
   "metadata": {},
   "outputs": [
    {
     "name": "stdout",
     "output_type": "stream",
     "text": [
      "Exception\n"
     ]
    }
   ],
   "source": [
    "try:\n",
    "    married_ids.remove('[deleted]')\n",
    "    single_ids.remove('[deleted]')\n",
    "except:\n",
    "    print(\"Exception\")"
   ]
  },
  {
   "cell_type": "code",
   "execution_count": 4,
   "metadata": {},
   "outputs": [],
   "source": [
    "def removeUrls(string):\n",
    "    str_arr = string.split()\n",
    "    return_str = \"\"\n",
    "    for word in str_arr:\n",
    "        if word.find('https://')<0 and word.find('http://')<0:\n",
    "            return_str+=word+\" \"\n",
    "    return return_str.strip()"
   ]
  },
  {
   "cell_type": "code",
   "execution_count": 7,
   "metadata": {},
   "outputs": [],
   "source": [
    "dialogues = []\n",
    "classes = []\n",
    "for line in lines:\n",
    "    json_data = line[:-2]+'}'\n",
    "    try:\n",
    "        jsonObj = json.loads(json_data)\n",
    "        author_id = jsonObj[\"author\"]\n",
    "        #print(selftext.lower())\n",
    "        if jsonObj[\"author\"] and author_id in married_ids and jsonObj[\"selftext\"] and jsonObj[\"selftext\"] != \"\":\n",
    "            dialogues.append(removeUrls(jsonObj[\"selftext\"].replace(\"\\n\",\"\").replace(\"\\r\",\"\")))\n",
    "            classes.append(1)\n",
    "        elif jsonObj[\"author\"] and author_id in single_ids and jsonObj[\"selftext\"] and jsonObj[\"selftext\"] != \"\":\n",
    "            dialogues.append(removeUrls(jsonObj[\"selftext\"].replace(\"\\n\",\"\").replace(\"\\r\",\"\")))\n",
    "            classes.append(0)\n",
    "    except KeyError:\n",
    "        cnt+=1\n",
    "    except:\n",
    "        cnt2=1\n",
    "    \n",
    "    "
   ]
  },
  {
   "cell_type": "code",
   "execution_count": 8,
   "metadata": {},
   "outputs": [
    {
     "name": "stdout",
     "output_type": "stream",
     "text": [
      "7581  -  7581\n"
     ]
    }
   ],
   "source": [
    "print(len(dialogues),\" - \",len(classes))"
   ]
  },
  {
   "cell_type": "code",
   "execution_count": 10,
   "metadata": {},
   "outputs": [],
   "source": [
    "filehandler = open(r\"C:\\Users\\Admin\\Downloads\\RS_2014-12\",\"r\",encoding=\"utf-8\")\n",
    "lines = filehandler.readlines()\n",
    "\n",
    "married_ids = []\n",
    "single_ids = []\n",
    "\n",
    "cnt = 0\n",
    "\n",
    "for line in lines:\n",
    "    json_data = line[:-2]+'}'\n",
    "    try:\n",
    "        jsonObj = json.loads(json_data)\n",
    "        author_id = jsonObj[\"author\"]\n",
    "        selftext = jsonObj[\"selftext\"]\n",
    "        #print(selftext.lower())\n",
    "        if author_id not in married_ids:\n",
    "            if selftext.lower().find(\"i'm married\") >= 0:\n",
    "                married_ids.append(author_id)\n",
    "            elif selftext.lower().find(\"i'm divorced\") >= 0:\n",
    "                single_ids.append(author_id)\n",
    "            elif selftext.lower().find(\"i'm single\") >= 0:\n",
    "                single_ids.append(author_id)\n",
    "            elif selftext.lower().find(\"i have a boyfriend\") >= 0:\n",
    "                single_ids.append(author_id)\n",
    "            elif selftext.lower().find(\"i have a girlfriend\") >= 0:\n",
    "                single_ids.append(author_id)\n",
    "            elif selftext.lower().find(\"my boyfriend\") >= 0:\n",
    "                single_ids.append(author_id)\n",
    "            elif selftext.lower().find(\"my girlfriend\") >= 0:\n",
    "                single_ids.append(author_id)\n",
    "            elif selftext.lower().find(\"my husband\") >= 0:\n",
    "                married_ids.append(author_id)\n",
    "            elif selftext.lower().find(\"my wife\") >= 0:\n",
    "                married_ids.append(author_id)\n",
    "            elif selftext.lower().find(\"i have a husband\") >= 0:\n",
    "                married_ids.append(author_id)\n",
    "            elif selftext.lower().find(\"i have a wife\") >= 0:\n",
    "                married_ids.append(author_id)\n",
    "            elif selftext.lower().find(\"i have husband\") >= 0:\n",
    "                married_ids.append(author_id)\n",
    "            elif selftext.lower().find(\"i have wife\") >= 0:\n",
    "                married_ids.append(author_id)\n",
    "            elif selftext.lower().find(\"i am married\") >= 0:\n",
    "                married_ids.append(author_id)\n",
    "    except KeyError:\n",
    "        cnt+=1\n",
    "    except:\n",
    "        cnt2 = 1\n",
    "        #print(jsonObj)\n",
    "\n",
    "try:\n",
    "    married_ids.remove('[deleted]')\n",
    "    single_ids.remove('[deleted]')\n",
    "except:\n",
    "    print(\"Exception\")\n",
    "\n",
    "for line in lines:\n",
    "    json_data = line[:-2]+'}'\n",
    "    try:\n",
    "        jsonObj = json.loads(json_data)\n",
    "        author_id = jsonObj[\"author\"]\n",
    "        #print(selftext.lower())\n",
    "        if jsonObj[\"author\"] and author_id in married_ids and jsonObj[\"selftext\"] and jsonObj[\"selftext\"] != \"\":\n",
    "            dialogues.append(removeUrls(jsonObj[\"selftext\"].replace(\"\\n\",\"\").replace(\"\\r\",\"\")))\n",
    "            classes.append(1)\n",
    "        elif jsonObj[\"author\"] and author_id in single_ids and jsonObj[\"selftext\"] and jsonObj[\"selftext\"] != \"\":\n",
    "            dialogues.append(removeUrls(jsonObj[\"selftext\"].replace(\"\\n\",\"\").replace(\"\\r\",\"\")))\n",
    "            classes.append(0)\n",
    "    except KeyError:\n",
    "        cnt+=1\n",
    "    except:\n",
    "        cnt2=1\n"
   ]
  },
  {
   "cell_type": "code",
   "execution_count": 11,
   "metadata": {},
   "outputs": [
    {
     "name": "stdout",
     "output_type": "stream",
     "text": [
      "83499  -  83499\n"
     ]
    }
   ],
   "source": [
    "print(len(dialogues),\" - \",len(classes))"
   ]
  },
  {
   "cell_type": "code",
   "execution_count": 16,
   "metadata": {},
   "outputs": [],
   "source": [
    "output = open(r\"C:\\Users\\Admin\\Downloads\\marital_status_ds.txt\",\"w\", encoding=\"utf-8\")\n",
    "ind = 0 \n",
    "for item in dialogues:\n",
    "    str_out = str(item) + \"++$++\" + str(classes[ind])+\"\\n\"\n",
    "    output.write(str_out)\n",
    "    ind+=1\n",
    "output.close()"
   ]
  },
  {
   "cell_type": "code",
   "execution_count": null,
   "metadata": {},
   "outputs": [],
   "source": []
  }
 ],
 "metadata": {
  "kernelspec": {
   "display_name": "Python 3",
   "language": "python",
   "name": "python3"
  },
  "language_info": {
   "codemirror_mode": {
    "name": "ipython",
    "version": 3
   },
   "file_extension": ".py",
   "mimetype": "text/x-python",
   "name": "python",
   "nbconvert_exporter": "python",
   "pygments_lexer": "ipython3",
   "version": "3.7.6"
  }
 },
 "nbformat": 4,
 "nbformat_minor": 4
}
