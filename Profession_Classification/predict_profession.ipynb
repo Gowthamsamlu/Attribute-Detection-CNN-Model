{
 "cells": [
  {
   "cell_type": "markdown",
   "metadata": {},
   "source": [
    "**Profession prediction**\n",
    "\n",
    "Go ahead to predict the profession of user provided the conversational dialog of the same."
   ]
  },
  {
   "cell_type": "code",
   "execution_count": 2,
   "metadata": {},
   "outputs": [
    {
     "name": "stdout",
     "output_type": "stream",
     "text": [
      "Importing required libraries...\n",
      "Importing libraries completed.\n",
      "Enter the dialogue to predict the profession: add\n",
      "add  -  student\n"
     ]
    }
   ],
   "source": [
    "print(\"Importing required libraries...\")\n",
    "import numpy as np\n",
    "import tensorflow\n",
    "from tensorflow.keras.preprocessing.text import one_hot\n",
    "from tensorflow.keras.preprocessing.sequence import pad_sequences\n",
    "\n",
    "print(\"Importing libraries completed.\")\n",
    "\n",
    "def max_ind_fn(output_list):\n",
    "    ind = 0\n",
    "    max_ind = 0\n",
    "    key = output_list[0]\n",
    "    for item in output_list:\n",
    "        if(key<item):\n",
    "            key = item\n",
    "            max_ind = ind\n",
    "        ind+=1\n",
    "    return max_ind\n",
    "\n",
    "model = tensorflow.keras.models.load_model('profession_cnn_model1.model')\n",
    "print(\"Enter the dialogue to predict the profession: \", end=\"\")\n",
    "string = input()\n",
    "docs = []\n",
    "docs.append(string)\n",
    "vocab_size = 2000\n",
    "categories = [\"administrator\",\"assistant\",\"banker\",\"doctor\",\"military personnel\",\"musician\",\"painter\",\"photographer\",\"policeman\",\"priest\",\"professor\",\"soldier\",\"sportsman\",\"student\"]\n",
    "encoded_docs = [one_hot(d, vocab_size) for d in docs]\n",
    "# pad documents to a max length of 4 words\n",
    "max_length = 204\n",
    "padded_docs = pad_sequences(encoded_docs, maxlen=max_length, padding='post')\n",
    "\n",
    "result = model.predict(padded_docs[0:1])\n",
    "\n",
    "print(string,\" - \",categories[max_ind_fn(result[0])])"
   ]
  },
  {
   "cell_type": "code",
   "execution_count": null,
   "metadata": {},
   "outputs": [],
   "source": []
  }
 ],
 "metadata": {
  "hide_input": true,
  "kernelspec": {
   "display_name": "Python 3",
   "language": "python",
   "name": "python3"
  },
  "language_info": {
   "codemirror_mode": {
    "name": "ipython",
    "version": 3
   },
   "file_extension": ".py",
   "mimetype": "text/x-python",
   "name": "python",
   "nbconvert_exporter": "python",
   "pygments_lexer": "ipython3",
   "version": "3.7.6"
  }
 },
 "nbformat": 4,
 "nbformat_minor": 4
}
